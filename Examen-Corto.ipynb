{
 "cells": [
  {
   "cell_type": "markdown",
   "metadata": {},
   "source": [
    "# Examen Corto - Método de Iteración Punto Fijo"
   ]
  },
  {
   "cell_type": "markdown",
   "metadata": {},
   "source": [
    "## Parte 1 - Teoría"
   ]
  },
  {
   "cell_type": "markdown",
   "metadata": {},
   "source": [
    "Dadas las funciones:\n",
    "\n",
    "$g(x) =  \\dfrac{5}{e^{0.5x}+1.2}$ \n",
    "\n",
    "$g^{\\prime}(x) =  \\dfrac{-5e^{0.5x}}{2(e^{0.5x}+1.2)^2}$ \n",
    "\n",
    "Determine si la función diverge o converge, utilizando los valores de: $x_1 = 1$ & $x_2 = 2$"
   ]
  },
  {
   "cell_type": "code",
   "execution_count": null,
   "metadata": {},
   "outputs": [],
   "source": []
  },
  {
   "cell_type": "markdown",
   "metadata": {},
   "source": [
    "## Parte 2 - Práctica"
   ]
  },
  {
   "cell_type": "markdown",
   "metadata": {},
   "source": [
    "Considerando la función:\n",
    "    \n",
    "$f(x)=x^2-x-2$"
   ]
  },
  {
   "cell_type": "markdown",
   "metadata": {},
   "source": [
    "1) Encuentre la raíz positiva utilizando el método de iteración de punto fijo, aceptando una tolerancia de 0.0001\n",
    "\n",
    "2) Grafique f(x), la intersección de ella con el eje x, g(x) y la intersección de esta última con la recta y=x."
   ]
  },
  {
   "cell_type": "code",
   "execution_count": null,
   "metadata": {},
   "outputs": [],
   "source": []
  }
 ],
 "metadata": {
  "kernelspec": {
   "display_name": "Python 3",
   "language": "python",
   "name": "python3"
  },
  "language_info": {
   "codemirror_mode": {
    "name": "ipython",
    "version": 3
   },
   "file_extension": ".py",
   "mimetype": "text/x-python",
   "name": "python",
   "nbconvert_exporter": "python",
   "pygments_lexer": "ipython3",
   "version": "3.7.1"
  }
 },
 "nbformat": 4,
 "nbformat_minor": 2
}
