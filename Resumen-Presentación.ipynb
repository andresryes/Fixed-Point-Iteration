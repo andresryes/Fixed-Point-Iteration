{
 "cells": [
  {
   "cell_type": "markdown",
   "metadata": {},
   "source": [
    "# Resumen - Iteración de Punto Fijo"
   ]
  },
  {
   "cell_type": "markdown",
   "metadata": {},
   "source": [
    "## Teoría"
   ]
  },
  {
   "cell_type": "markdown",
   "metadata": {},
   "source": [
    "El método de iteración de punto fijo es un método numérico que permite solucionar ecuaciones no lineales. Funciona dejando un punto en x constante y aproximarse a él a través de una funcion iterativa."
   ]
  },
  {
   "cell_type": "markdown",
   "metadata": {},
   "source": [
    "Dada la función $f(x)=0$, para resolver para x se necesita reescribir dicha función y dejarla en términos de x y despejada para x. \n",
    "De esta forma tendremos:\n",
    "    \n",
    "$x = g(x)$"
   ]
  },
  {
   "cell_type": "markdown",
   "metadata": {},
   "source": [
    "Donde:\n",
    "    \n",
    "$x$ es nuestro punto fijo y $g(x)$ es nuestra función iterativa.\n",
    "\n",
    "En términos generales este algoritmo se define como:\n",
    "    \n",
    "$x_{n} = g(x_{n-1})$\n",
    "\n",
    "Vamos a repetir este procedimiento hasta llegar a un error aceptado por nuestra tolerancia."
   ]
  },
  {
   "cell_type": "markdown",
   "metadata": {},
   "source": [
    "##### Condiciones apropiadas"
   ]
  },
  {
   "cell_type": "markdown",
   "metadata": {},
   "source": [
    "Decimos que:\n",
    "    \n",
    "Cuando $g'(x) < 1 $ va a converger y cuando $g'(x)\\geq 1$ va a diverger."
   ]
  },
  {
   "cell_type": "markdown",
   "metadata": {},
   "source": [
    "## Ejemplo práctico"
   ]
  },
  {
   "cell_type": "code",
   "execution_count": 49,
   "metadata": {},
   "outputs": [],
   "source": [
    "#imports\n",
    "import numpy\n",
    "from matplotlib import pyplot as plt\n",
    "import math"
   ]
  },
  {
   "cell_type": "code",
   "execution_count": 50,
   "metadata": {},
   "outputs": [],
   "source": [
    "#Definimos nuestras funciones\n",
    "\n",
    "def g(x):\n",
    "    return 5/(math.pow(math.e,0.5*x)+1.2)\n",
    "    #return 1+2/x\n",
    "\n",
    "def f(x):\n",
    "    return x*math.pow(math.e, x*0.5)+1.2*x-5\n",
    "    #return x**2-x-2\n",
    "    \n",
    "def f1(x):\n",
    "    return x\n",
    "\n",
    "def zero(x):\n",
    "    return 0"
   ]
  },
  {
   "cell_type": "code",
   "execution_count": 51,
   "metadata": {},
   "outputs": [],
   "source": [
    "#Definición general del algoritmo, parámetros: f, g, x inicial y tolerancia\n",
    "\n",
    "def fixed_point(f, g, x, t):\n",
    "    xn = 0\n",
    "    e = 1\n",
    "    i = 0\n",
    "    while e > t:\n",
    "        xn = g(x)\n",
    "        x = xn\n",
    "        e = abs(f(xn))\n",
    "        i+=1\n",
    "    return xn,i"
   ]
  },
  {
   "cell_type": "code",
   "execution_count": 52,
   "metadata": {},
   "outputs": [
    {
     "name": "stdout",
     "output_type": "stream",
     "text": [
      "(1.5049696993153028, 14)\n"
     ]
    }
   ],
   "source": [
    "print(fixed_point(f, g, 1, 0.0001))"
   ]
  },
  {
   "cell_type": "code",
   "execution_count": 53,
   "metadata": {},
   "outputs": [
    {
     "data": {
      "image/png": "[encoded data removed]",
      "text/plain": [
       "<Figure size 432x288 with 1 Axes>"
      ]
     },
     "metadata": {
      "needs_background": "light"
     },
     "output_type": "display_data"
    }
   ],
   "source": [
    "#Gráfica\n",
    "a1 = 1\n",
    "b1 = 2\n",
    "paso = 0.1\n",
    "x=numpy.arange(a1, b1, paso)\n",
    "x1=numpy.arange(a1, b1, paso)\n",
    "\n",
    "\n",
    "Y_F = [f(i) for i in x1]\n",
    "Y_G = [g(i) for i in x]\n",
    "Y_F1 = [f1(i) for i in x]\n",
    "Y_0 = [zero(i) for i in x]\n",
    "\n",
    "fig1=plt.figure()\n",
    "axe=fig1.add_subplot(1,1,1)    \n",
    "axe.plot(x1,Y_F,'b',label='f(x)')\n",
    "axe.plot(x,Y_G, 'y', label='g(x)',  linestyle='--')\n",
    "axe.plot(x,Y_F1, 'r', label='x',  linestyle='--')\n",
    "axe.plot(x,Y_0, 'g')\n",
    "\n",
    "axe.legend()\n",
    "plt.ylabel(\"y\")\n",
    "plt.xlabel(\"x\")\n",
    "plt.title(\"fixed-point\")\n",
    "plt.show()"
   ]
  },
  {
   "cell_type": "markdown",
   "metadata": {},
   "source": [
    "## Aplicación"
   ]
  },
  {
   "cell_type": "markdown",
   "metadata": {},
   "source": [
    "Considere el siguiente movimiento:\n",
    "\n",
    "![](https://www.fisimat.com.mx/wp-content/uploads/2017/11/tiro-parabolico-3.png)"
   ]
  },
  {
   "cell_type": "markdown",
   "metadata": {},
   "source": [
    "Considere el siguiente movimiento. Con un rozamiento del viento de $b=0.01$ y una velocidad del viento de 40m/s, la función de movimiento $\\Delta y(t)$ puede usarse para aproximar el tiempo de vuelo si se le resta una constante $F_D=30.9$\n",
    "    \n",
    "Utilizando el método de iteración de punto fijo, encuentre el tiempo de vuelo y el alcance del proyectil."
   ]
  },
  {
   "cell_type": "markdown",
   "metadata": {},
   "source": [
    "#### Solución"
   ]
  },
  {
   "cell_type": "markdown",
   "metadata": {},
   "source": [
    "Sabiendo que: \n",
    "    \n",
    "$\\Delta y = v_{oy}t + \\dfrac{1}{2}gt^2-F_D$\n",
    "\n",
    "$v_o = 110 m/s$\n",
    "\n",
    "$v_{oy} = v_o\\sin(\\theta)$ \n",
    "\n",
    "$v_{oy} = 63.09$\n",
    "\n",
    "$g = -9.8m/s^2$\n",
    "\n",
    "Tenemos:\n",
    "\n",
    "$\\Delta y = 63.09t - 4.9t^2-30.9$\n",
    "\n",
    "El tiempo puede encontrarse al saber las raíces de la función para $\\Delta y$, ya que es cuando toca el suelo.  \n",
    "\n",
    "Por lo tanto:\n",
    "\n",
    "$f(t) = 0$\n",
    "\n",
    "$63.09t - 4.9t^2-30.9=0$\n",
    "\n",
    "Aplicando el método:\n",
    "\n",
    "$63.09t -30.9= 4.9t^2$\n",
    "\n",
    "$t=\\dfrac{63.09t -30.9}{4.9t}$"
   ]
  },
  {
   "cell_type": "markdown",
   "metadata": {},
   "source": [
    "$t=\\dfrac{63.09}{4.9}  - \\dfrac{30.9}{4.9t}$"
   ]
  },
  {
   "cell_type": "code",
   "execution_count": 54,
   "metadata": {},
   "outputs": [],
   "source": [
    "#Utilización del algoritmo\n",
    "\n",
    "#Definimos nuestras funciones\n",
    "\n",
    "def g(t):\n",
    "    return 63.09/4.9-30.9/(4.9*t)\n",
    "\n",
    "def f(t):\n",
    "    return 63.09*t-4.9*t**2-30.9"
   ]
  },
  {
   "cell_type": "code",
   "execution_count": 55,
   "metadata": {},
   "outputs": [
    {
     "name": "stdout",
     "output_type": "stream",
     "text": [
      "(12.365533122826324, 6)\n"
     ]
    }
   ],
   "source": [
    "print(fixed_point(f, g, 1, 0.0001))"
   ]
  },
  {
   "cell_type": "markdown",
   "metadata": {},
   "source": [
    "Respuesta en Wolfram Alpha: 12.3655"
   ]
  },
  {
   "cell_type": "markdown",
   "metadata": {},
   "source": [
    "Alcance:"
   ]
  },
  {
   "cell_type": "code",
   "execution_count": 56,
   "metadata": {},
   "outputs": [
    {
     "data": {
      "text/plain": [
       "1114.2176909915067"
      ]
     },
     "execution_count": 56,
     "metadata": {},
     "output_type": "execute_result"
    }
   ],
   "source": [
    "math.cos(35*math.pi/180)*110*fixed_point(f,g,1,0.0001)[0]"
   ]
  }
 ],
 "metadata": {
  "kernelspec": {
   "display_name": "Python 3",
   "language": "python",
   "name": "python3"
  },
  "language_info": {
   "codemirror_mode": {
    "name": "ipython",
    "version": 3
   },
   "file_extension": ".py",
   "mimetype": "text/x-python",
   "name": "python",
   "nbconvert_exporter": "python",
   "pygments_lexer": "ipython3",
   "version": "3.7.1"
  }
 },
 "nbformat": 4,
 "nbformat_minor": 2
}
